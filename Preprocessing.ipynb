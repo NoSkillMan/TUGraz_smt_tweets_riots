{
 "cells": [
  {
   "cell_type": "markdown",
   "id": "ff10e1c8",
   "metadata": {},
   "source": [
    "## Preprocessing"
   ]
  },
  {
   "cell_type": "code",
   "execution_count": 1,
   "id": "5b3c6bad",
   "metadata": {},
   "outputs": [],
   "source": [
    "import pandas as pd\n",
    "import matplotlib as plt\n",
    "import os"
   ]
  },
  {
   "cell_type": "code",
   "execution_count": 2,
   "id": "cbe4ce03",
   "metadata": {},
   "outputs": [
    {
     "data": {
      "text/html": [
       "<div>\n",
       "<style scoped>\n",
       "    .dataframe tbody tr th:only-of-type {\n",
       "        vertical-align: middle;\n",
       "    }\n",
       "\n",
       "    .dataframe tbody tr th {\n",
       "        vertical-align: top;\n",
       "    }\n",
       "\n",
       "    .dataframe thead th {\n",
       "        text-align: right;\n",
       "    }\n",
       "</style>\n",
       "<table border=\"1\" class=\"dataframe\">\n",
       "  <thead>\n",
       "    <tr style=\"text-align: right;\">\n",
       "      <th></th>\n",
       "      <th>tweet_id</th>\n",
       "      <th>text</th>\n",
       "      <th>query</th>\n",
       "      <th>user_id</th>\n",
       "      <th>user_name</th>\n",
       "      <th>follower_count</th>\n",
       "      <th>user_tweet_count</th>\n",
       "      <th>likes</th>\n",
       "      <th>retweets</th>\n",
       "      <th>location_name</th>\n",
       "      <th>latitude</th>\n",
       "      <th>longitude</th>\n",
       "      <th>user_location</th>\n",
       "      <th>date</th>\n",
       "    </tr>\n",
       "  </thead>\n",
       "  <tbody>\n",
       "    <tr>\n",
       "      <th>0</th>\n",
       "      <td>1346863072435179520</td>\n",
       "      <td>we can adjust by population to get crude exces...</td>\n",
       "      <td>death rates</td>\n",
       "      <td>1101487206840057856</td>\n",
       "      <td>nick stripe</td>\n",
       "      <td>12936</td>\n",
       "      <td>1577</td>\n",
       "      <td>255</td>\n",
       "      <td>108</td>\n",
       "      <td>NaN</td>\n",
       "      <td>NaN</td>\n",
       "      <td>NaN</td>\n",
       "      <td>NaN</td>\n",
       "      <td>2021-01-06</td>\n",
       "    </tr>\n",
       "    <tr>\n",
       "      <th>1</th>\n",
       "      <td>1346817043232919555</td>\n",
       "      <td>turning to labour or remainers like what would...</td>\n",
       "      <td>death rates</td>\n",
       "      <td>234694571</td>\n",
       "      <td>femi</td>\n",
       "      <td>290982</td>\n",
       "      <td>75187</td>\n",
       "      <td>877</td>\n",
       "      <td>116</td>\n",
       "      <td>NaN</td>\n",
       "      <td>NaN</td>\n",
       "      <td>NaN</td>\n",
       "      <td>NaN</td>\n",
       "      <td>2021-01-06</td>\n",
       "    </tr>\n",
       "    <tr>\n",
       "      <th>2</th>\n",
       "      <td>1346862193451692034</td>\n",
       "      <td>numbers of deaths are affected by population s...</td>\n",
       "      <td>death rates</td>\n",
       "      <td>1101487206840057856</td>\n",
       "      <td>nick stripe</td>\n",
       "      <td>12936</td>\n",
       "      <td>1577</td>\n",
       "      <td>213</td>\n",
       "      <td>75</td>\n",
       "      <td>NaN</td>\n",
       "      <td>NaN</td>\n",
       "      <td>NaN</td>\n",
       "      <td>NaN</td>\n",
       "      <td>2021-01-06</td>\n",
       "    </tr>\n",
       "    <tr>\n",
       "      <th>3</th>\n",
       "      <td>1346969461190848516</td>\n",
       "      <td>here is a list of governors who preside over s...</td>\n",
       "      <td>death rates</td>\n",
       "      <td>1346952467003568129</td>\n",
       "      <td>NaN</td>\n",
       "      <td>2</td>\n",
       "      <td>120</td>\n",
       "      <td>0</td>\n",
       "      <td>7612</td>\n",
       "      <td>NaN</td>\n",
       "      <td>NaN</td>\n",
       "      <td>NaN</td>\n",
       "      <td>NaN</td>\n",
       "      <td>2021-01-06</td>\n",
       "    </tr>\n",
       "    <tr>\n",
       "      <th>4</th>\n",
       "      <td>1346969317569687554</td>\n",
       "      <td>convince me with facts on death rates and infe...</td>\n",
       "      <td>death rates</td>\n",
       "      <td>885891622919184384</td>\n",
       "      <td>NaN</td>\n",
       "      <td>11552</td>\n",
       "      <td>36252</td>\n",
       "      <td>2</td>\n",
       "      <td>0</td>\n",
       "      <td>NaN</td>\n",
       "      <td>NaN</td>\n",
       "      <td>NaN</td>\n",
       "      <td>NaN</td>\n",
       "      <td>2021-01-06</td>\n",
       "    </tr>\n",
       "  </tbody>\n",
       "</table>\n",
       "</div>"
      ],
      "text/plain": [
       "              tweet_id                                               text  \\\n",
       "0  1346863072435179520  we can adjust by population to get crude exces...   \n",
       "1  1346817043232919555  turning to labour or remainers like what would...   \n",
       "2  1346862193451692034  numbers of deaths are affected by population s...   \n",
       "3  1346969461190848516  here is a list of governors who preside over s...   \n",
       "4  1346969317569687554  convince me with facts on death rates and infe...   \n",
       "\n",
       "         query              user_id    user_name  follower_count  \\\n",
       "0  death rates  1101487206840057856  nick stripe           12936   \n",
       "1  death rates            234694571         femi          290982   \n",
       "2  death rates  1101487206840057856  nick stripe           12936   \n",
       "3  death rates  1346952467003568129          NaN               2   \n",
       "4  death rates   885891622919184384          NaN           11552   \n",
       "\n",
       "   user_tweet_count  likes  retweets location_name  latitude  longitude  \\\n",
       "0              1577    255       108           NaN       NaN        NaN   \n",
       "1             75187    877       116           NaN       NaN        NaN   \n",
       "2              1577    213        75           NaN       NaN        NaN   \n",
       "3               120      0      7612           NaN       NaN        NaN   \n",
       "4             36252      2         0           NaN       NaN        NaN   \n",
       "\n",
       "  user_location        date  \n",
       "0           NaN  2021-01-06  \n",
       "1           NaN  2021-01-06  \n",
       "2           NaN  2021-01-06  \n",
       "3           NaN  2021-01-06  \n",
       "4           NaN  2021-01-06  "
      ]
     },
     "execution_count": 2,
     "metadata": {},
     "output_type": "execute_result"
    }
   ],
   "source": [
    "df = pd.read_csv('tweets.csv')\n",
    "df[df['text'].notna()]\n",
    "df.head()"
   ]
  },
  {
   "cell_type": "code",
   "execution_count": 3,
   "id": "9ee4d0e8",
   "metadata": {},
   "outputs": [
    {
     "name": "stdout",
     "output_type": "stream",
     "text": [
      "<class 'pandas.core.frame.DataFrame'>\n",
      "RangeIndex: 82309 entries, 0 to 82308\n",
      "Data columns (total 14 columns):\n",
      " #   Column            Non-Null Count  Dtype  \n",
      "---  ------            --------------  -----  \n",
      " 0   tweet_id          82309 non-null  int64  \n",
      " 1   text              82308 non-null  object \n",
      " 2   query             82309 non-null  object \n",
      " 3   user_id           82309 non-null  int64  \n",
      " 4   user_name         2478 non-null   object \n",
      " 5   follower_count    82309 non-null  int64  \n",
      " 6   user_tweet_count  82309 non-null  int64  \n",
      " 7   likes             82309 non-null  int64  \n",
      " 8   retweets          82309 non-null  int64  \n",
      " 9   location_name     285 non-null    object \n",
      " 10  latitude          285 non-null    float64\n",
      " 11  longitude         285 non-null    float64\n",
      " 12  user_location     15890 non-null  object \n",
      " 13  date              82309 non-null  object \n",
      "dtypes: float64(2), int64(6), object(6)\n",
      "memory usage: 8.8+ MB\n"
     ]
    }
   ],
   "source": [
    "df.info()"
   ]
  },
  {
   "cell_type": "code",
   "execution_count": 4,
   "id": "a9240af3",
   "metadata": {},
   "outputs": [
    {
     "data": {
      "text/html": [
       "<div>\n",
       "<style scoped>\n",
       "    .dataframe tbody tr th:only-of-type {\n",
       "        vertical-align: middle;\n",
       "    }\n",
       "\n",
       "    .dataframe tbody tr th {\n",
       "        vertical-align: top;\n",
       "    }\n",
       "\n",
       "    .dataframe thead th {\n",
       "        text-align: right;\n",
       "    }\n",
       "</style>\n",
       "<table border=\"1\" class=\"dataframe\">\n",
       "  <thead>\n",
       "    <tr style=\"text-align: right;\">\n",
       "      <th></th>\n",
       "      <th>tweet_id</th>\n",
       "      <th>user_id</th>\n",
       "      <th>follower_count</th>\n",
       "      <th>user_tweet_count</th>\n",
       "      <th>likes</th>\n",
       "      <th>retweets</th>\n",
       "      <th>latitude</th>\n",
       "      <th>longitude</th>\n",
       "    </tr>\n",
       "  </thead>\n",
       "  <tbody>\n",
       "    <tr>\n",
       "      <th>count</th>\n",
       "      <td>8.230900e+04</td>\n",
       "      <td>8.230900e+04</td>\n",
       "      <td>8.230900e+04</td>\n",
       "      <td>8.230900e+04</td>\n",
       "      <td>8.230900e+04</td>\n",
       "      <td>82309.000000</td>\n",
       "      <td>285.000000</td>\n",
       "      <td>285.000000</td>\n",
       "    </tr>\n",
       "    <tr>\n",
       "      <th>mean</th>\n",
       "      <td>1.346829e+18</td>\n",
       "      <td>4.594458e+17</td>\n",
       "      <td>1.476278e+04</td>\n",
       "      <td>4.478396e+04</td>\n",
       "      <td>4.321026e+01</td>\n",
       "      <td>2644.534000</td>\n",
       "      <td>-91.077280</td>\n",
       "      <td>36.910159</td>\n",
       "    </tr>\n",
       "    <tr>\n",
       "      <th>std</th>\n",
       "      <td>4.498331e+13</td>\n",
       "      <td>5.557702e+17</td>\n",
       "      <td>3.725736e+05</td>\n",
       "      <td>1.040944e+05</td>\n",
       "      <td>4.790861e+03</td>\n",
       "      <td>8192.867257</td>\n",
       "      <td>16.129728</td>\n",
       "      <td>5.563611</td>\n",
       "    </tr>\n",
       "    <tr>\n",
       "      <th>min</th>\n",
       "      <td>1.346748e+18</td>\n",
       "      <td>1.585000e+03</td>\n",
       "      <td>0.000000e+00</td>\n",
       "      <td>1.000000e+00</td>\n",
       "      <td>0.000000e+00</td>\n",
       "      <td>0.000000</td>\n",
       "      <td>-179.231086</td>\n",
       "      <td>13.182335</td>\n",
       "    </tr>\n",
       "    <tr>\n",
       "      <th>25%</th>\n",
       "      <td>1.346797e+18</td>\n",
       "      <td>2.847849e+08</td>\n",
       "      <td>1.200000e+02</td>\n",
       "      <td>2.932000e+03</td>\n",
       "      <td>0.000000e+00</td>\n",
       "      <td>0.000000</td>\n",
       "      <td>-96.977527</td>\n",
       "      <td>33.615765</td>\n",
       "    </tr>\n",
       "    <tr>\n",
       "      <th>50%</th>\n",
       "      <td>1.346819e+18</td>\n",
       "      <td>2.745198e+09</td>\n",
       "      <td>4.310000e+02</td>\n",
       "      <td>1.206800e+04</td>\n",
       "      <td>0.000000e+00</td>\n",
       "      <td>24.000000</td>\n",
       "      <td>-85.649602</td>\n",
       "      <td>38.237077</td>\n",
       "    </tr>\n",
       "    <tr>\n",
       "      <th>75%</th>\n",
       "      <td>1.346854e+18</td>\n",
       "      <td>1.069913e+18</td>\n",
       "      <td>1.539000e+03</td>\n",
       "      <td>4.190000e+04</td>\n",
       "      <td>0.000000e+00</td>\n",
       "      <td>740.000000</td>\n",
       "      <td>-79.762590</td>\n",
       "      <td>40.800683</td>\n",
       "    </tr>\n",
       "    <tr>\n",
       "      <th>max</th>\n",
       "      <td>1.346970e+18</td>\n",
       "      <td>1.346952e+18</td>\n",
       "      <td>5.208582e+07</td>\n",
       "      <td>5.444440e+06</td>\n",
       "      <td>1.070310e+06</td>\n",
       "      <td>795857.000000</td>\n",
       "      <td>-71.191421</td>\n",
       "      <td>47.733761</td>\n",
       "    </tr>\n",
       "  </tbody>\n",
       "</table>\n",
       "</div>"
      ],
      "text/plain": [
       "           tweet_id       user_id  follower_count  user_tweet_count  \\\n",
       "count  8.230900e+04  8.230900e+04    8.230900e+04      8.230900e+04   \n",
       "mean   1.346829e+18  4.594458e+17    1.476278e+04      4.478396e+04   \n",
       "std    4.498331e+13  5.557702e+17    3.725736e+05      1.040944e+05   \n",
       "min    1.346748e+18  1.585000e+03    0.000000e+00      1.000000e+00   \n",
       "25%    1.346797e+18  2.847849e+08    1.200000e+02      2.932000e+03   \n",
       "50%    1.346819e+18  2.745198e+09    4.310000e+02      1.206800e+04   \n",
       "75%    1.346854e+18  1.069913e+18    1.539000e+03      4.190000e+04   \n",
       "max    1.346970e+18  1.346952e+18    5.208582e+07      5.444440e+06   \n",
       "\n",
       "              likes       retweets    latitude   longitude  \n",
       "count  8.230900e+04   82309.000000  285.000000  285.000000  \n",
       "mean   4.321026e+01    2644.534000  -91.077280   36.910159  \n",
       "std    4.790861e+03    8192.867257   16.129728    5.563611  \n",
       "min    0.000000e+00       0.000000 -179.231086   13.182335  \n",
       "25%    0.000000e+00       0.000000  -96.977527   33.615765  \n",
       "50%    0.000000e+00      24.000000  -85.649602   38.237077  \n",
       "75%    0.000000e+00     740.000000  -79.762590   40.800683  \n",
       "max    1.070310e+06  795857.000000  -71.191421   47.733761  "
      ]
     },
     "execution_count": 4,
     "metadata": {},
     "output_type": "execute_result"
    }
   ],
   "source": [
    "df.describe()"
   ]
  },
  {
   "cell_type": "code",
   "execution_count": 5,
   "id": "18f059e1",
   "metadata": {},
   "outputs": [
    {
     "data": {
      "text/plain": [
       "(82035, 14)"
      ]
     },
     "execution_count": 5,
     "metadata": {},
     "output_type": "execute_result"
    }
   ],
   "source": [
    "# Specify the columns to consider for distinct rows\n",
    "distinct_columns = ['tweet_id']\n",
    "# Get distinct rows based on the specified columns\n",
    "df = df.drop_duplicates(subset=distinct_columns)\n",
    "df.shape"
   ]
  },
  {
   "cell_type": "code",
   "execution_count": 6,
   "id": "9ae670ad",
   "metadata": {},
   "outputs": [
    {
     "data": {
      "text/html": [
       "<div>\n",
       "<style scoped>\n",
       "    .dataframe tbody tr th:only-of-type {\n",
       "        vertical-align: middle;\n",
       "    }\n",
       "\n",
       "    .dataframe tbody tr th {\n",
       "        vertical-align: top;\n",
       "    }\n",
       "\n",
       "    .dataframe thead th {\n",
       "        text-align: right;\n",
       "    }\n",
       "</style>\n",
       "<table border=\"1\" class=\"dataframe\">\n",
       "  <thead>\n",
       "    <tr style=\"text-align: right;\">\n",
       "      <th></th>\n",
       "      <th>tweet_id</th>\n",
       "      <th>text</th>\n",
       "      <th>query</th>\n",
       "      <th>user_id</th>\n",
       "      <th>follower_count</th>\n",
       "      <th>user_tweet_count</th>\n",
       "      <th>likes</th>\n",
       "      <th>retweets</th>\n",
       "      <th>user_location</th>\n",
       "      <th>date</th>\n",
       "    </tr>\n",
       "  </thead>\n",
       "  <tbody>\n",
       "    <tr>\n",
       "      <th>0</th>\n",
       "      <td>1346863072435179520</td>\n",
       "      <td>we can adjust by population to get crude exces...</td>\n",
       "      <td>death rates</td>\n",
       "      <td>1101487206840057856</td>\n",
       "      <td>12936</td>\n",
       "      <td>1577</td>\n",
       "      <td>255</td>\n",
       "      <td>108</td>\n",
       "      <td>NaN</td>\n",
       "      <td>2021-01-06</td>\n",
       "    </tr>\n",
       "    <tr>\n",
       "      <th>1</th>\n",
       "      <td>1346817043232919555</td>\n",
       "      <td>turning to labour or remainers like what would...</td>\n",
       "      <td>death rates</td>\n",
       "      <td>234694571</td>\n",
       "      <td>290982</td>\n",
       "      <td>75187</td>\n",
       "      <td>877</td>\n",
       "      <td>116</td>\n",
       "      <td>NaN</td>\n",
       "      <td>2021-01-06</td>\n",
       "    </tr>\n",
       "    <tr>\n",
       "      <th>2</th>\n",
       "      <td>1346862193451692034</td>\n",
       "      <td>numbers of deaths are affected by population s...</td>\n",
       "      <td>death rates</td>\n",
       "      <td>1101487206840057856</td>\n",
       "      <td>12936</td>\n",
       "      <td>1577</td>\n",
       "      <td>213</td>\n",
       "      <td>75</td>\n",
       "      <td>NaN</td>\n",
       "      <td>2021-01-06</td>\n",
       "    </tr>\n",
       "    <tr>\n",
       "      <th>3</th>\n",
       "      <td>1346969461190848516</td>\n",
       "      <td>here is a list of governors who preside over s...</td>\n",
       "      <td>death rates</td>\n",
       "      <td>1346952467003568129</td>\n",
       "      <td>2</td>\n",
       "      <td>120</td>\n",
       "      <td>0</td>\n",
       "      <td>7612</td>\n",
       "      <td>NaN</td>\n",
       "      <td>2021-01-06</td>\n",
       "    </tr>\n",
       "    <tr>\n",
       "      <th>4</th>\n",
       "      <td>1346969317569687554</td>\n",
       "      <td>convince me with facts on death rates and infe...</td>\n",
       "      <td>death rates</td>\n",
       "      <td>885891622919184384</td>\n",
       "      <td>11552</td>\n",
       "      <td>36252</td>\n",
       "      <td>2</td>\n",
       "      <td>0</td>\n",
       "      <td>NaN</td>\n",
       "      <td>2021-01-06</td>\n",
       "    </tr>\n",
       "    <tr>\n",
       "      <th>...</th>\n",
       "      <td>...</td>\n",
       "      <td>...</td>\n",
       "      <td>...</td>\n",
       "      <td>...</td>\n",
       "      <td>...</td>\n",
       "      <td>...</td>\n",
       "      <td>...</td>\n",
       "      <td>...</td>\n",
       "      <td>...</td>\n",
       "      <td>...</td>\n",
       "    </tr>\n",
       "    <tr>\n",
       "      <th>82304</th>\n",
       "      <td>1346815324948086787</td>\n",
       "      <td>chocolate oda thaan suthuvvar polaby the way w...</td>\n",
       "      <td>mask</td>\n",
       "      <td>3161455290</td>\n",
       "      <td>79</td>\n",
       "      <td>1967</td>\n",
       "      <td>2</td>\n",
       "      <td>0</td>\n",
       "      <td>NaN</td>\n",
       "      <td>2021-01-06</td>\n",
       "    </tr>\n",
       "    <tr>\n",
       "      <th>82305</th>\n",
       "      <td>1346815315309699072</td>\n",
       "      <td>this could be us but yall dont wanna go on loc...</td>\n",
       "      <td>mask</td>\n",
       "      <td>1425740186</td>\n",
       "      <td>647</td>\n",
       "      <td>127146</td>\n",
       "      <td>0</td>\n",
       "      <td>6589</td>\n",
       "      <td>NaN</td>\n",
       "      <td>2021-01-06</td>\n",
       "    </tr>\n",
       "    <tr>\n",
       "      <th>82306</th>\n",
       "      <td>1346815315234185221</td>\n",
       "      <td>covid 19 grey black dust mask activated antipo...</td>\n",
       "      <td>mask</td>\n",
       "      <td>1076044678116638720</td>\n",
       "      <td>459</td>\n",
       "      <td>52536</td>\n",
       "      <td>0</td>\n",
       "      <td>0</td>\n",
       "      <td>NaN</td>\n",
       "      <td>2021-01-06</td>\n",
       "    </tr>\n",
       "    <tr>\n",
       "      <th>82307</th>\n",
       "      <td>1346815313204154368</td>\n",
       "      <td>imagine if the energy people put into complain...</td>\n",
       "      <td>mask</td>\n",
       "      <td>23077071</td>\n",
       "      <td>3272</td>\n",
       "      <td>8391</td>\n",
       "      <td>20</td>\n",
       "      <td>4</td>\n",
       "      <td>MN</td>\n",
       "      <td>2021-01-06</td>\n",
       "    </tr>\n",
       "    <tr>\n",
       "      <th>82308</th>\n",
       "      <td>1346815309173424130</td>\n",
       "      <td>dear georgians tomorrow is the day that you ca...</td>\n",
       "      <td>mask</td>\n",
       "      <td>1118624215299710976</td>\n",
       "      <td>9217</td>\n",
       "      <td>7856</td>\n",
       "      <td>0</td>\n",
       "      <td>45</td>\n",
       "      <td>KY</td>\n",
       "      <td>2021-01-06</td>\n",
       "    </tr>\n",
       "  </tbody>\n",
       "</table>\n",
       "<p>82035 rows × 10 columns</p>\n",
       "</div>"
      ],
      "text/plain": [
       "                  tweet_id                                               text  \\\n",
       "0      1346863072435179520  we can adjust by population to get crude exces...   \n",
       "1      1346817043232919555  turning to labour or remainers like what would...   \n",
       "2      1346862193451692034  numbers of deaths are affected by population s...   \n",
       "3      1346969461190848516  here is a list of governors who preside over s...   \n",
       "4      1346969317569687554  convince me with facts on death rates and infe...   \n",
       "...                    ...                                                ...   \n",
       "82304  1346815324948086787  chocolate oda thaan suthuvvar polaby the way w...   \n",
       "82305  1346815315309699072  this could be us but yall dont wanna go on loc...   \n",
       "82306  1346815315234185221  covid 19 grey black dust mask activated antipo...   \n",
       "82307  1346815313204154368  imagine if the energy people put into complain...   \n",
       "82308  1346815309173424130  dear georgians tomorrow is the day that you ca...   \n",
       "\n",
       "             query              user_id  follower_count  user_tweet_count  \\\n",
       "0      death rates  1101487206840057856           12936              1577   \n",
       "1      death rates            234694571          290982             75187   \n",
       "2      death rates  1101487206840057856           12936              1577   \n",
       "3      death rates  1346952467003568129               2               120   \n",
       "4      death rates   885891622919184384           11552             36252   \n",
       "...            ...                  ...             ...               ...   \n",
       "82304         mask           3161455290              79              1967   \n",
       "82305         mask           1425740186             647            127146   \n",
       "82306         mask  1076044678116638720             459             52536   \n",
       "82307         mask             23077071            3272              8391   \n",
       "82308         mask  1118624215299710976            9217              7856   \n",
       "\n",
       "       likes  retweets user_location        date  \n",
       "0        255       108           NaN  2021-01-06  \n",
       "1        877       116           NaN  2021-01-06  \n",
       "2        213        75           NaN  2021-01-06  \n",
       "3          0      7612           NaN  2021-01-06  \n",
       "4          2         0           NaN  2021-01-06  \n",
       "...      ...       ...           ...         ...  \n",
       "82304      2         0           NaN  2021-01-06  \n",
       "82305      0      6589           NaN  2021-01-06  \n",
       "82306      0         0           NaN  2021-01-06  \n",
       "82307     20         4            MN  2021-01-06  \n",
       "82308      0        45            KY  2021-01-06  \n",
       "\n",
       "[82035 rows x 10 columns]"
      ]
     },
     "execution_count": 6,
     "metadata": {},
     "output_type": "execute_result"
    }
   ],
   "source": [
    "# Specify the columns to drop\n",
    "columns_to_drop = ['user_name', 'location_name', 'latitude','longitude']\n",
    "\n",
    "# Drop the specified columns\n",
    "df = df.drop(columns=columns_to_drop)\n",
    "df"
   ]
  },
  {
   "cell_type": "code",
   "execution_count": 7,
   "id": "da088717",
   "metadata": {},
   "outputs": [
    {
     "data": {
      "text/plain": [
       "39078"
      ]
     },
     "execution_count": 7,
     "metadata": {},
     "output_type": "execute_result"
    }
   ],
   "source": [
    "df['text'].nunique()"
   ]
  },
  {
   "cell_type": "code",
   "execution_count": 8,
   "id": "795734ec",
   "metadata": {},
   "outputs": [
    {
     "data": {
      "text/plain": [
       "(3160, 10)"
      ]
     },
     "execution_count": 8,
     "metadata": {},
     "output_type": "execute_result"
    }
   ],
   "source": [
    "trump_data = df[df['text'].str.contains(\"trump\", case=False,na=False)]\n",
    "trump_data.shape"
   ]
  },
  {
   "cell_type": "code",
   "execution_count": 9,
   "id": "22ff5271",
   "metadata": {},
   "outputs": [
    {
     "name": "stderr",
     "output_type": "stream",
     "text": [
      "C:\\Users\\saada\\AppData\\Local\\Temp/ipykernel_4892/3509012828.py:1: SettingWithCopyWarning: \n",
      "A value is trying to be set on a copy of a slice from a DataFrame\n",
      "\n",
      "See the caveats in the documentation: https://pandas.pydata.org/pandas-docs/stable/user_guide/indexing.html#returning-a-view-versus-a-copy\n",
      "  trump_data.drop_duplicates(['text'],inplace=True)\n"
     ]
    },
    {
     "data": {
      "text/plain": [
       "(1375, 10)"
      ]
     },
     "execution_count": 9,
     "metadata": {},
     "output_type": "execute_result"
    }
   ],
   "source": [
    "trump_data.drop_duplicates(['text'],inplace=True)\n",
    "trump_data.shape"
   ]
  },
  {
   "cell_type": "code",
   "execution_count": 10,
   "id": "fab22a41",
   "metadata": {},
   "outputs": [
    {
     "data": {
      "text/plain": [
       "(1237, 10)"
      ]
     },
     "execution_count": 10,
     "metadata": {},
     "output_type": "execute_result"
    }
   ],
   "source": [
    "biden_data = df[df['text'].str.contains(\"biden\", case=False,na=False)]\n",
    "biden_data.shape"
   ]
  },
  {
   "cell_type": "code",
   "execution_count": 11,
   "id": "8f121ae9",
   "metadata": {},
   "outputs": [
    {
     "name": "stderr",
     "output_type": "stream",
     "text": [
      "C:\\Users\\saada\\AppData\\Local\\Temp/ipykernel_4892/1995241980.py:1: SettingWithCopyWarning: \n",
      "A value is trying to be set on a copy of a slice from a DataFrame\n",
      "\n",
      "See the caveats in the documentation: https://pandas.pydata.org/pandas-docs/stable/user_guide/indexing.html#returning-a-view-versus-a-copy\n",
      "  biden_data.drop_duplicates(['text'],inplace=True)\n"
     ]
    },
    {
     "data": {
      "text/plain": [
       "(410, 10)"
      ]
     },
     "execution_count": 11,
     "metadata": {},
     "output_type": "execute_result"
    }
   ],
   "source": [
    "biden_data.drop_duplicates(['text'],inplace=True)\n",
    "biden_data.shape"
   ]
  },
  {
   "cell_type": "code",
   "execution_count": 12,
   "id": "7a34747b",
   "metadata": {},
   "outputs": [
    {
     "data": {
      "text/plain": [
       "(249, 10)"
      ]
     },
     "execution_count": 12,
     "metadata": {},
     "output_type": "execute_result"
    }
   ],
   "source": [
    "both_data = df[(df['text'].str.contains(\"biden\", case=False,na=False)) & (df['text'].str.contains(\"trump\", case=False,na=False))]\n",
    "both_data.shape"
   ]
  },
  {
   "cell_type": "code",
   "execution_count": 13,
   "id": "eff25009",
   "metadata": {},
   "outputs": [
    {
     "name": "stderr",
     "output_type": "stream",
     "text": [
      "C:\\Users\\saada\\AppData\\Local\\Temp/ipykernel_4892/1529837486.py:1: SettingWithCopyWarning: \n",
      "A value is trying to be set on a copy of a slice from a DataFrame\n",
      "\n",
      "See the caveats in the documentation: https://pandas.pydata.org/pandas-docs/stable/user_guide/indexing.html#returning-a-view-versus-a-copy\n",
      "  both_data.drop_duplicates(['text'],inplace=True)\n"
     ]
    },
    {
     "data": {
      "text/plain": [
       "(145, 10)"
      ]
     },
     "execution_count": 13,
     "metadata": {},
     "output_type": "execute_result"
    }
   ],
   "source": [
    "both_data.drop_duplicates(['text'],inplace=True)\n",
    "both_data.shape"
   ]
  },
  {
   "cell_type": "code",
   "execution_count": 14,
   "id": "de530c73",
   "metadata": {},
   "outputs": [],
   "source": [
    "trump_data.to_csv('trump.csv')\n",
    "biden_data.to_csv('biden.csv')\n",
    "both_data.to_csv('both.csv')"
   ]
  },
  {
   "cell_type": "code",
   "execution_count": null,
   "id": "b08d07fd",
   "metadata": {},
   "outputs": [],
   "source": []
  }
 ],
 "metadata": {
  "kernelspec": {
   "display_name": "Python 3 (ipykernel)",
   "language": "python",
   "name": "python3"
  },
  "language_info": {
   "codemirror_mode": {
    "name": "ipython",
    "version": 3
   },
   "file_extension": ".py",
   "mimetype": "text/x-python",
   "name": "python",
   "nbconvert_exporter": "python",
   "pygments_lexer": "ipython3",
   "version": "3.10.0"
  }
 },
 "nbformat": 4,
 "nbformat_minor": 5
}
